{
 "cells": [
  {
   "cell_type": "code",
   "execution_count": 1,
   "id": "6302aa3e",
   "metadata": {},
   "outputs": [],
   "source": [
    "import pandas as pd\n",
    "import numpy as np \n",
    "import matplotlib.pyplot as plt\n",
    "import os\n",
    "from urllib.request import urlopen,urlretrieve\n",
    "from PIL import Image\n",
    "from tqdm import tqdm_notebook\n",
    "%matplotlib inline\n",
    "from sklearn.utils import shuffle\n",
    "import cv2\n",
    "import tensorflow as tf\n",
    "from tensorflow.keras.applications import DenseNet121\n",
    "from tensorflow.keras.applications.densenet import preprocess_input\n",
    "from keras.models import load_model\n",
    "from sklearn.datasets import load_files   \n",
    "from keras.utils import np_utils\n",
    "from glob import glob\n",
    "from keras import applications\n",
    "from keras.preprocessing.image import ImageDataGenerator \n",
    "from keras import optimizers\n",
    "from keras.models import Sequential,Model,load_model\n",
    "from keras.layers import Dense, Dropout, Flatten, Conv2D, MaxPool2D,GlobalAveragePooling2D\n",
    "from keras.callbacks import TensorBoard,ReduceLROnPlateau,ModelCheckpoint\n",
    "from tensorflow.keras.applications.resnet50 import ResNet50\n",
    "from tensorflow.keras.preprocessing import image\n",
    "from tensorflow.keras.applications.resnet50 import preprocess_input, decode_predictions\n",
    "import numpy as np\n",
    "from keras.applications.vgg16 import VGG16\n",
    "from keras.applications.vgg16 import preprocess_input\n",
    "from keras.preprocessing import image"
   ]
  },
  {
   "cell_type": "code",
   "execution_count": 2,
   "id": "f1f02a02",
   "metadata": {},
   "outputs": [],
   "source": [
    "data_path='D:/Robotics Master/Third semester/Thesis_Data/data3/train'"
   ]
  },
  {
   "cell_type": "code",
   "execution_count": 3,
   "id": "2807656e",
   "metadata": {},
   "outputs": [
    {
     "name": "stdout",
     "output_type": "stream",
     "text": [
      "Found 4877 images belonging to 2 classes.\n",
      "Found 1218 images belonging to 2 classes.\n"
     ]
    }
   ],
   "source": [
    "#from sklearn.model_selection import train_test_split\n",
    "\n",
    "#train_data,test_data,train_target,test_target=train_test_split(data,target,test_size=0.2)\n",
    "\n",
    "\n",
    "\n",
    "image_generator = ImageDataGenerator(rescale=1/255, validation_split=0.2)    \n",
    "\n",
    "training_set = image_generator.flow_from_directory(batch_size=16,\n",
    "                                                 directory=data_path,\n",
    "                                                 shuffle=True,\n",
    "                                                 target_size=(224, 224), \n",
    "                                                 subset=\"training\",\n",
    "                                                 class_mode='categorical')\n",
    "\n",
    "test_set = image_generator.flow_from_directory(batch_size=16,\n",
    "                                                 directory=data_path,\n",
    "                                                 shuffle=True,\n",
    "                                                 target_size=(224, 224), \n",
    "                                                 subset=\"validation\",\n",
    "                                                 class_mode='categorical')"
   ]
  },
  {
   "cell_type": "code",
   "execution_count": 4,
   "id": "9d0373ef",
   "metadata": {},
   "outputs": [],
   "source": [
    "# add preprocessing layer to the front of VGG\n",
    "\n",
    "img_height,img_width = 224,224 \n",
    "num_classes = 2\n",
    "#If imagenet weights are being loaded, \n",
    "#input must have a static square shape (one of (128, 128), (160, 160), (192, 192), or (224, 224))\n",
    "vgg = VGG16(weights= 'imagenet', include_top=False, input_shape= (img_height,img_width,3))\n",
    "\n",
    "\n",
    "for layer in vgg.layers:\n",
    "    layer.trainable = False"
   ]
  },
  {
   "cell_type": "code",
   "execution_count": 5,
   "id": "c668dfe4",
   "metadata": {},
   "outputs": [
    {
     "name": "stdout",
     "output_type": "stream",
     "text": [
      "Model: \"model\"\n",
      "_________________________________________________________________\n",
      " Layer (type)                Output Shape              Param #   \n",
      "=================================================================\n",
      " input_1 (InputLayer)        [(None, 224, 224, 3)]     0         \n",
      "                                                                 \n",
      " block1_conv1 (Conv2D)       (None, 224, 224, 64)      1792      \n",
      "                                                                 \n",
      " block1_conv2 (Conv2D)       (None, 224, 224, 64)      36928     \n",
      "                                                                 \n",
      " block1_pool (MaxPooling2D)  (None, 112, 112, 64)      0         \n",
      "                                                                 \n",
      " block2_conv1 (Conv2D)       (None, 112, 112, 128)     73856     \n",
      "                                                                 \n",
      " block2_conv2 (Conv2D)       (None, 112, 112, 128)     147584    \n",
      "                                                                 \n",
      " block2_pool (MaxPooling2D)  (None, 56, 56, 128)       0         \n",
      "                                                                 \n",
      " block3_conv1 (Conv2D)       (None, 56, 56, 256)       295168    \n",
      "                                                                 \n",
      " block3_conv2 (Conv2D)       (None, 56, 56, 256)       590080    \n",
      "                                                                 \n",
      " block3_conv3 (Conv2D)       (None, 56, 56, 256)       590080    \n",
      "                                                                 \n",
      " block3_pool (MaxPooling2D)  (None, 28, 28, 256)       0         \n",
      "                                                                 \n",
      " block4_conv1 (Conv2D)       (None, 28, 28, 512)       1180160   \n",
      "                                                                 \n",
      " block4_conv2 (Conv2D)       (None, 28, 28, 512)       2359808   \n",
      "                                                                 \n",
      " block4_conv3 (Conv2D)       (None, 28, 28, 512)       2359808   \n",
      "                                                                 \n",
      " block4_pool (MaxPooling2D)  (None, 14, 14, 512)       0         \n",
      "                                                                 \n",
      " block5_conv1 (Conv2D)       (None, 14, 14, 512)       2359808   \n",
      "                                                                 \n",
      " block5_conv2 (Conv2D)       (None, 14, 14, 512)       2359808   \n",
      "                                                                 \n",
      " block5_conv3 (Conv2D)       (None, 14, 14, 512)       2359808   \n",
      "                                                                 \n",
      " block5_pool (MaxPooling2D)  (None, 7, 7, 512)         0         \n",
      "                                                                 \n",
      " global_average_pooling2d (G  (None, 512)              0         \n",
      " lobalAveragePooling2D)                                          \n",
      "                                                                 \n",
      " batch_normalization (BatchN  (None, 512)              2048      \n",
      " ormalization)                                                   \n",
      "                                                                 \n",
      " dropout (Dropout)           (None, 512)               0         \n",
      "                                                                 \n",
      " dense (Dense)               (None, 128)               65664     \n",
      "                                                                 \n",
      " dropout_1 (Dropout)         (None, 128)               0         \n",
      "                                                                 \n",
      " dense_1 (Dense)             (None, 64)                8256      \n",
      "                                                                 \n",
      " batch_normalization_1 (Batc  (None, 64)               256       \n",
      " hNormalization)                                                 \n",
      "                                                                 \n",
      " dropout_2 (Dropout)         (None, 64)                0         \n",
      "                                                                 \n",
      " dense_2 (Dense)             (None, 2)                 130       \n",
      "                                                                 \n",
      "=================================================================\n",
      "Total params: 14,791,042\n",
      "Trainable params: 75,202\n",
      "Non-trainable params: 14,715,840\n",
      "_________________________________________________________________\n"
     ]
    }
   ],
   "source": [
    "from keras.layers import Conv2D, MaxPooling2D, Flatten, Dense, Dropout,GlobalAveragePooling2D\n",
    "x= vgg.output\n",
    "\n",
    "x= GlobalAveragePooling2D()(x)\n",
    "x= tf.keras.layers.BatchNormalization()(x)\n",
    "x= Dropout(0.7)(x)\n",
    "#x= Dense(512,activation='relu')(x) \n",
    "x= Dense(128,activation='relu')(x)\n",
    "x= Dropout(0.7)(x)\n",
    "x= Dense(64,activation='relu')(x)\n",
    "x= tf.keras.layers.BatchNormalization()(x)\n",
    "x= Dropout(0.7)(x)\n",
    "\n",
    "preds=Dense(2,activation='softmax')(x) #FC-layer\n",
    "\n",
    "model=Model(inputs=vgg.input,outputs=preds)\n",
    "model.compile(optimizer='Adam',loss='binary_crossentropy',metrics=['accuracy'])\n",
    "\n",
    "model.summary()\n"
   ]
  },
  {
   "cell_type": "code",
   "execution_count": 6,
   "id": "d4c5c4d9",
   "metadata": {},
   "outputs": [
    {
     "name": "stdout",
     "output_type": "stream",
     "text": [
      "Epoch 1/15\n",
      "305/305 [==============================] - ETA: 0s - loss: 0.6523 - accuracy: 0.7519INFO:tensorflow:Assets written to: modelrv2-001.model\\assets\n",
      "305/305 [==============================] - 113s 359ms/step - loss: 0.6523 - accuracy: 0.7519 - val_loss: 0.4563 - val_accuracy: 0.7767\n",
      "Epoch 2/15\n",
      "305/305 [==============================] - ETA: 0s - loss: 0.3820 - accuracy: 0.8546INFO:tensorflow:Assets written to: modelrv2-002.model\\assets\n",
      "305/305 [==============================] - 110s 361ms/step - loss: 0.3820 - accuracy: 0.8546 - val_loss: 0.2947 - val_accuracy: 0.8834\n",
      "Epoch 3/15\n",
      "305/305 [==============================] - ETA: 0s - loss: 0.3247 - accuracy: 0.8755INFO:tensorflow:Assets written to: modelrv2-003.model\\assets\n",
      "305/305 [==============================] - 110s 361ms/step - loss: 0.3247 - accuracy: 0.8755 - val_loss: 0.2607 - val_accuracy: 0.8875\n",
      "Epoch 4/15\n",
      "305/305 [==============================] - ETA: 0s - loss: 0.2922 - accuracy: 0.8903INFO:tensorflow:Assets written to: modelrv2-004.model\\assets\n",
      "305/305 [==============================] - 109s 359ms/step - loss: 0.2922 - accuracy: 0.8903 - val_loss: 0.2450 - val_accuracy: 0.8974\n",
      "Epoch 5/15\n",
      "305/305 [==============================] - ETA: 0s - loss: 0.2693 - accuracy: 0.8997INFO:tensorflow:Assets written to: modelrv2-005.model\\assets\n",
      "305/305 [==============================] - 112s 368ms/step - loss: 0.2693 - accuracy: 0.8997 - val_loss: 0.2403 - val_accuracy: 0.8998\n",
      "Epoch 6/15\n",
      "305/305 [==============================] - ETA: 0s - loss: 0.2560 - accuracy: 0.9014INFO:tensorflow:Assets written to: modelrv2-006.model\\assets\n",
      "305/305 [==============================] - 112s 369ms/step - loss: 0.2560 - accuracy: 0.9014 - val_loss: 0.2359 - val_accuracy: 0.9007\n",
      "Epoch 7/15\n",
      "305/305 [==============================] - ETA: 0s - loss: 0.2428 - accuracy: 0.9042INFO:tensorflow:Assets written to: modelrv2-007.model\\assets\n",
      "305/305 [==============================] - 110s 362ms/step - loss: 0.2428 - accuracy: 0.9042 - val_loss: 0.2270 - val_accuracy: 0.9023\n",
      "Epoch 8/15\n",
      "305/305 [==============================] - ETA: 0s - loss: 0.2377 - accuracy: 0.9088INFO:tensorflow:Assets written to: modelrv2-008.model\\assets\n",
      "305/305 [==============================] - 112s 366ms/step - loss: 0.2377 - accuracy: 0.9088 - val_loss: 0.2253 - val_accuracy: 0.9015\n",
      "Epoch 9/15\n",
      "305/305 [==============================] - ETA: 0s - loss: 0.2472 - accuracy: 0.9034INFO:tensorflow:Assets written to: modelrv2-009.model\\assets\n",
      "305/305 [==============================] - 111s 365ms/step - loss: 0.2472 - accuracy: 0.9034 - val_loss: 0.2236 - val_accuracy: 0.9039\n",
      "Epoch 10/15\n",
      "305/305 [==============================] - 108s 353ms/step - loss: 0.2237 - accuracy: 0.9159 - val_loss: 0.2240 - val_accuracy: 0.9064\n",
      "Epoch 11/15\n",
      "305/305 [==============================] - ETA: 0s - loss: 0.2325 - accuracy: 0.9112INFO:tensorflow:Assets written to: modelrv2-011.model\\assets\n",
      "305/305 [==============================] - 111s 363ms/step - loss: 0.2325 - accuracy: 0.9112 - val_loss: 0.2207 - val_accuracy: 0.9064\n",
      "Epoch 12/15\n",
      "305/305 [==============================] - ETA: 0s - loss: 0.2367 - accuracy: 0.9065INFO:tensorflow:Assets written to: modelrv2-012.model\\assets\n",
      "305/305 [==============================] - 110s 362ms/step - loss: 0.2367 - accuracy: 0.9065 - val_loss: 0.2172 - val_accuracy: 0.9064\n",
      "Epoch 13/15\n",
      "305/305 [==============================] - 107s 353ms/step - loss: 0.2300 - accuracy: 0.9098 - val_loss: 0.2205 - val_accuracy: 0.9072\n",
      "Epoch 14/15\n",
      "305/305 [==============================] - ETA: 0s - loss: 0.2260 - accuracy: 0.9127INFO:tensorflow:Assets written to: modelrv2-014.model\\assets\n",
      "305/305 [==============================] - 111s 365ms/step - loss: 0.2260 - accuracy: 0.9127 - val_loss: 0.2169 - val_accuracy: 0.9072\n",
      "Epoch 15/15\n",
      "305/305 [==============================] - ETA: 0s - loss: 0.2189 - accuracy: 0.9155INFO:tensorflow:Assets written to: modelrv2-015.model\\assets\n",
      "305/305 [==============================] - 110s 362ms/step - loss: 0.2189 - accuracy: 0.9155 - val_loss: 0.2126 - val_accuracy: 0.9072\n"
     ]
    }
   ],
   "source": [
    "from keras.callbacks import ModelCheckpoint, EarlyStopping\n",
    "\n",
    "#checkpoint = ModelCheckpoint('model-{epoch:03d}.model',monitor='val_loss',verbose=0,save_best_only=True,mode='auto')\n",
    "\n",
    "checkpoint = [EarlyStopping(monitor='val_loss', patience=3),\n",
    "              ModelCheckpoint('modelrv2-{epoch:03d}.model',monitor='val_loss',verbose=0,save_best_only=True,mode='auto')]\n",
    "\n",
    "history = model.fit(\n",
    "  training_set,\n",
    "  validation_data=test_set,\n",
    "  epochs=15,\n",
    "  steps_per_epoch=len(training_set),\n",
    "  validation_steps=len(test_set),\n",
    "    callbacks = [checkpoint]\n",
    "    \n",
    "    \n",
    ")\n",
    "\n"
   ]
  },
  {
   "cell_type": "code",
   "execution_count": 7,
   "id": "af00bc59",
   "metadata": {},
   "outputs": [
    {
     "data": {
      "image/png": "[encoded data removed]",
      "text/plain": [
       "<Figure size 432x288 with 1 Axes>"
      ]
     },
     "metadata": {
      "needs_background": "light"
     },
     "output_type": "display_data"
    }
   ],
   "source": [
    "from matplotlib import pyplot as plt\n",
    "\n",
    "plt.plot(history.history['loss'],'r',label='training loss')\n",
    "plt.plot(history.history['val_loss'],label='validation loss')\n",
    "plt.xlabel('# epochs')\n",
    "plt.ylabel('loss')\n",
    "plt.legend()\n",
    "plt.show()\n"
   ]
  },
  {
   "cell_type": "code",
   "execution_count": 8,
   "id": "30750f47",
   "metadata": {},
   "outputs": [
    {
     "data": {
      "image/png": "[encoded data removed]",
      "text/plain": [
       "<Figure size 432x288 with 1 Axes>"
      ]
     },
     "metadata": {
      "needs_background": "light"
     },
     "output_type": "display_data"
    }
   ],
   "source": [
    "plt.plot(history.history['accuracy'],'r',label='training accuracy')\n",
    "plt.plot(history.history['val_accuracy'],label='validation accuracy')\n",
    "plt.xlabel('# epochs')\n",
    "plt.ylabel('loss')\n",
    "\n",
    "plt.legend()\n",
    "plt.show()"
   ]
  },
  {
   "cell_type": "code",
   "execution_count": null,
   "id": "461fc864",
   "metadata": {},
   "outputs": [],
   "source": []
  }
 ],
 "metadata": {
  "kernelspec": {
   "display_name": "Python 3 (ipykernel)",
   "language": "python",
   "name": "python3"
  },
  "language_info": {
   "codemirror_mode": {
    "name": "ipython",
    "version": 3
   },
   "file_extension": ".py",
   "mimetype": "text/x-python",
   "name": "python",
   "nbconvert_exporter": "python",
   "pygments_lexer": "ipython3",
   "version": "3.9.7"
  }
 },
 "nbformat": 4,
 "nbformat_minor": 5
}
